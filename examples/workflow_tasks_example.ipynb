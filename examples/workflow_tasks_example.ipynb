{
 "cells": [
  {
   "cell_type": "markdown",
   "metadata": {},
   "source": [
    "# Workflows\n",
    "This notebook is an example on how to use the nasctn_workflow software to create complex sequences of tasks.\n",
    "The software consists of 3 main parts:\n",
    "1. A dependency system, that represents the depencies that tasks require to run \n",
    "2. Task, an abstract class that represents something to be done\n",
    "3. Workflow an abstact class that represents a number of tasks that need to be done. Workflows are tasks,so workflows of workflows can be assembled. \n",
    "\n",
    "The flow of design is:\n",
    "1. Define the tasks to be done. Each task can be a predefined one, or a new task defined through inheritance.\n",
    "2. Define the dependencies for each task. There several stock dependencies and checkers, if a new dependency is needed, it is just a dictionary that uses a function that returns true if met or false if not met.\n",
    "3. Add the dependencies to the tasks \n",
    "4. Add the tasks to the workflow"
   ]
  },
  {
   "cell_type": "markdown",
   "metadata": {},
   "source": [
    "## Imports"
   ]
  },
  {
   "cell_type": "code",
   "execution_count": 8,
   "metadata": {},
   "outputs": [],
   "source": [
    "import sys\n",
    "from asmg_workflow import *"
   ]
  },
  {
   "cell_type": "markdown",
   "metadata": {},
   "source": [
    "## A simple example\n",
    "Supose you need to calculate a chain of functions that depend on the previous answer. We define three functions and create a workflow."
   ]
  },
  {
   "cell_type": "code",
   "execution_count": 9,
   "metadata": {},
   "outputs": [],
   "source": [
    "# Variable \n",
    "start_number  = 10.1e8\n",
    "#### Define the functions\n",
    "###############\n",
    "def f1(x):\n",
    "    \"\"\"linear function, y = 3x+4\"\"\"\n",
    "    return 3*x+4\n",
    "def f2(x):\n",
    "    \"\"\"Square function x**2\"\"\"\n",
    "    return x**2\n",
    "def f3(x):\n",
    "    \"\"\"cubic function .25*x**3\"\"\"\n",
    "    return .25*x**3\n",
    "####################\n",
    "### define the tasks\n",
    "####################\n",
    "# The first task does not depend on anything\n",
    "# so we use FunctionTask\n",
    "#######################\n",
    "task_1 = FunctionTask(function = f1,args = [start_number],name = \"linear\")\n",
    "#########################\n",
    "# The next task depends on the first one \n",
    "# being done so we use DependentFunctionTask\n",
    "# The input will be passed by the dependency\n",
    "task_2 = DependentFunctionTask(function = f2, name =\"square\" )\n",
    "################################################\n",
    "task_3 = DependentFunctionTask(function =f3, name = \"cubic\")\n",
    "###################\n",
    "### define the dependencies\n",
    "###################\n",
    "# The first one is that the first task is done\n",
    "dependency_1 = TaskDependency(input  = {\"task\":task_1})\n",
    "# The next one is that the second task is done\n",
    "dependency_2 = TaskDependency(input  = {\"task\":task_2})\n",
    "########################\n",
    "## Add the dependencies\n",
    "#######################\n",
    "task_2.add_dependency(dependency_1)\n",
    "task_3.add_dependency(dependency_2)\n",
    "#######################\n",
    "## Create the workflow and add the tasks\n",
    "#######################\n",
    "test_workflow = Workflow(name = \"test_workflow_1\")\n",
    "## The start task is special, it has to be run before everybody else. If you don't assign it then it is just empty and\n",
    "# runs nothing\n",
    "test_workflow.add_task(task_1)\n",
    "test_workflow.add_task(task_2)\n",
    "test_workflow.add_task(task_3)"
   ]
  },
  {
   "cell_type": "markdown",
   "metadata": {},
   "source": [
    "### Now we run the workflow"
   ]
  },
  {
   "cell_type": "code",
   "execution_count": 10,
   "metadata": {},
   "outputs": [],
   "source": [
    "# Executing the workflow, all the tasks will be arranged by their dependencies \n",
    "test_workflow.execute()"
   ]
  },
  {
   "cell_type": "code",
   "execution_count": 11,
   "metadata": {},
   "outputs": [
    {
     "name": "stdout",
     "output_type": "stream",
     "text": [
      "- event: Task test_workflow_1 was created.\n",
      "  timestamp: 2025-04-07 14:58:04.791127\n",
      "- event: Task id is deed6e98-5c2e-4e90-be7a-2eb7605693df\n",
      "  timestamp: 2025-04-07 14:58:04.792217\n",
      "- event: Starting slot 0, tasks ['Start_test_workflow_1'] have started\n",
      "  timestamp: 2025-04-07 14:58:04.809232\n",
      "- event: The task Start_test_workflow_1 has completed\n",
      "  timestamp: 2025-04-07 14:58:04.810548\n",
      "- event: Starting slot 1, tasks ['linear'] have started\n",
      "  timestamp: 2025-04-07 14:58:04.815706\n",
      "- event: The task linear has completed\n",
      "  timestamp: 2025-04-07 14:58:04.816702\n",
      "- event: Starting slot 2, tasks ['square'] have started\n",
      "  timestamp: 2025-04-07 14:58:04.834882\n",
      "- event: The task square has completed\n",
      "  timestamp: 2025-04-07 14:58:04.836739\n",
      "- event: Starting slot 3, tasks ['cubic'] have started\n",
      "  timestamp: 2025-04-07 14:58:04.862889\n",
      "- event: The task cubic has completed\n",
      "  timestamp: 2025-04-07 14:58:04.865793\n",
      "- event: Starting slot 4, tasks ['Start_test_workflow_1'] have started\n",
      "  timestamp: 2025-04-07 14:58:04.901282\n",
      "- event: The task Start_test_workflow_1 has completed\n",
      "  timestamp: 2025-04-07 14:58:04.904741\n",
      "\n"
     ]
    }
   ],
   "source": [
    "# Each workflow has a log and each task has one of its own\n",
    "print(test_workflow.log)"
   ]
  },
  {
   "cell_type": "code",
   "execution_count": 12,
   "metadata": {},
   "outputs": [
    {
     "data": {
      "image/png": "[encoded data removed]",
      "text/plain": [
       "<Figure size 640x480 with 1 Axes>"
      ]
     },
     "metadata": {},
     "output_type": "display_data"
    }
   ],
   "source": [
    "# the show method creates a network graph\n",
    "# You can display by node name or by scheduled slot\n",
    "test_workflow.show(display = \"name\",verbose = False)"
   ]
  },
  {
   "cell_type": "code",
   "execution_count": 13,
   "metadata": {},
   "outputs": [
    {
     "name": "stdout",
     "output_type": "stream",
     "text": [
      "The slot index == 0\n",
      "The slot index == 1\n",
      "The task index == 0 and the task == linear\n",
      "The slot index == 1, The task index == 0 and the task == <asmg_workflow.tasks.FunctionTask object at 0x0000023C78069450>\n",
      "Adding the edge Start_test_workflow_1,linear \n",
      "The slot index == 2\n",
      "The task index == 0 and the task == square\n",
      "task == in the list of dependencies\n",
      "task == the dependency type \n",
      "The slot index == 3\n",
      "The task index == 0 and the task == cubic\n",
      "task == in the list of dependencies\n",
      "task == the dependency type \n",
      "The task index == 0 and the task == <asmg_workflow.tasks.DependentFunctionTask object at 0x0000023C75D06780>\n",
      "The slot index == 4\n"
     ]
    },
    {
     "data": {
      "image/png": "[encoded data removed]",
      "text/plain": [
       "<Figure size 640x480 with 1 Axes>"
      ]
     },
     "metadata": {},
     "output_type": "display_data"
    }
   ],
   "source": [
    "# the show method creates a network graph\n",
    "# You can display by node name or by scheduled slot\n",
    "test_workflow.show(display = \"name\",verbose = True)"
   ]
  },
  {
   "cell_type": "code",
   "execution_count": 14,
   "metadata": {},
   "outputs": [
    {
     "name": "stdout",
     "output_type": "stream",
     "text": [
      "The ouput of task cubic is 1.934620489794049e+56\n",
      "The ouput of task square is 9.18090002424e+18\n",
      "The ouput of task linear is 3030000004.0\n"
     ]
    }
   ],
   "source": [
    "# here is a printed output of the executed tasks\n",
    "for task in test_workflow.tasks:\n",
    "    try:\n",
    "        print(f'The ouput of task {task.name} is {task.output}')\n",
    "    except:\n",
    "        pass"
   ]
  },
  {
   "cell_type": "code",
   "execution_count": 19,
   "metadata": {},
   "outputs": [
    {
     "name": "stdout",
     "output_type": "stream",
     "text": [
      "- event: Task linear was created.\n",
      "  timestamp: 2025-04-07 14:58:04.770878\n",
      "- event: Task id is ea0dee40-1b13-4a99-91c4-4227eb5f0dfe\n",
      "  timestamp: 2025-04-07 14:58:04.771578\n",
      "- event: Execution of function <function f1 at 0x0000023C7802DA80> has begun\n",
      "  timestamp: 2025-04-07 14:58:04.812473\n",
      "- event: Execution of function <function f1 at 0x0000023C7802DA80> has completed\n",
      "  timestamp: 2025-04-07 14:58:04.814545\n",
      "\n"
     ]
    }
   ],
   "source": [
    "# An example of the task log\n",
    "print(task_1.log)"
   ]
  },
  {
   "cell_type": "code",
   "execution_count": 20,
   "metadata": {},
   "outputs": [
    {
     "data": {
      "text/plain": [
       "UUID('19e845cd-2865-4130-b0fd-dd0233f9c9fe')"
      ]
     },
     "execution_count": 20,
     "metadata": {},
     "output_type": "execute_result"
    }
   ],
   "source": [
    "# Each task gets a UUID upon creation\n",
    "task_2.id"
   ]
  },
  {
   "cell_type": "markdown",
   "metadata": {},
   "source": [
    "## A slightly more complex example\n",
    "In this example we will calculate three numbers and then pass the results to a final function that uses all three."
   ]
  },
  {
   "cell_type": "code",
   "execution_count": 21,
   "metadata": {},
   "outputs": [],
   "source": [
    "# variables\n",
    "x = 1\n",
    "y = 2\n",
    "z = 3\n",
    "\n",
    "#############\n",
    "# Functions - we will use f1,f2,f3 from the previous example\n",
    "def f4(x,y,z):\n",
    "    \"\"\"Calculate x+y-z\"\"\"\n",
    "    return x+y-z\n",
    "\n",
    "# Task Defintion - notice the FunctionTask instead of Dependent Function Task\n",
    "# Also the class MultipleDependentFunctionTask takes input from multiple previous tasks\n",
    "example2_task_1 = FunctionTask(function = f1,args = [x],name = \"linear\")\n",
    "example2_task_2 = FunctionTask(function = f2,args = [y],name = \"square\")\n",
    "example2_task_3 = FunctionTask(function = f3,args = [z],name = \"cubic\")\n",
    "example2_task_4 = MultipleDependentFunctionTask(function = f4,name = \"combiner\")\n",
    "# Dependency defintion\n",
    "dependency_1 = TaskDependency(input={\"task\":example2_task_1,\"output_name\":\"x\"})\n",
    "dependency_2 = TaskDependency(input={\"task\":example2_task_2,\"output_name\":\"y\"})\n",
    "dependency_3 = TaskDependency(input={\"task\":example2_task_3,\"output_name\":\"z\"})\n",
    "# Add the dependecies to task_4\n",
    "example2_task_4.add_dependency(dependency_1)\n",
    "example2_task_4.add_dependency(dependency_2)\n",
    "example2_task_4.add_dependency(dependency_3)\n",
    "# Create worflow and add tasks\n",
    "workflow = Workflow(name = \"test_workflow_2\")\n",
    "workflow.add_task(example2_task_1)\n",
    "workflow.add_task(example2_task_2)\n",
    "workflow.add_task(example2_task_3)\n",
    "workflow.add_task(example2_task_4)\n",
    "\n"
   ]
  },
  {
   "cell_type": "code",
   "execution_count": 22,
   "metadata": {},
   "outputs": [],
   "source": [
    "#execute\n",
    "workflow.execute()"
   ]
  },
  {
   "cell_type": "code",
   "execution_count": 23,
   "metadata": {},
   "outputs": [
    {
     "data": {
      "image/png": "[encoded data removed]",
      "text/plain": [
       "<Figure size 640x480 with 1 Axes>"
      ]
     },
     "metadata": {},
     "output_type": "display_data"
    }
   ],
   "source": [
    "workflow.show(display=\"name\")"
   ]
  },
  {
   "cell_type": "code",
   "execution_count": 24,
   "metadata": {},
   "outputs": [
    {
     "name": "stdout",
     "output_type": "stream",
     "text": [
      "The ouput of task combiner is 4.25\n",
      "The ouput of task cubic is 6.75\n",
      "The ouput of task square is 4\n",
      "The ouput of task linear is 7\n"
     ]
    }
   ],
   "source": [
    "# here is a printed output of the executed tasks\n",
    "for task in workflow.tasks:\n",
    "    try:\n",
    "        print(f'The ouput of task {task.name} is {task.output}')\n",
    "    except:\n",
    "        pass"
   ]
  },
  {
   "cell_type": "code",
   "execution_count": 25,
   "metadata": {},
   "outputs": [
    {
     "name": "stdout",
     "output_type": "stream",
     "text": [
      "- event: Task test_workflow_2 was created.\n",
      "  timestamp: 2025-04-07 14:58:13.938897\n",
      "- event: Task id is c6cf6de3-a34e-49d9-ade8-6a80c3d30c34\n",
      "  timestamp: 2025-04-07 14:58:13.939831\n",
      "- event: Starting slot 0, tasks ['Start_test_workflow_2'] have started\n",
      "  timestamp: 2025-04-07 14:58:13.972092\n",
      "- event: The task Start_test_workflow_2 has completed\n",
      "  timestamp: 2025-04-07 14:58:13.973439\n",
      "- event: Starting slot 1, tasks ['cubic', 'square', 'linear'] have started\n",
      "  timestamp: 2025-04-07 14:58:13.980617\n",
      "- event: The task cubic has completed\n",
      "  timestamp: 2025-04-07 14:58:13.981639\n",
      "- event: The task square has completed\n",
      "  timestamp: 2025-04-07 14:58:13.983217\n",
      "- event: The task linear has completed\n",
      "  timestamp: 2025-04-07 14:58:13.985678\n",
      "- event: Starting slot 2, tasks ['combiner'] have started\n",
      "  timestamp: 2025-04-07 14:58:14.037950\n",
      "- event: The task combiner has completed\n",
      "  timestamp: 2025-04-07 14:58:14.039572\n",
      "- event: Starting slot 3, tasks ['Start_test_workflow_2'] have started\n",
      "  timestamp: 2025-04-07 14:58:14.041377\n",
      "- event: The task Start_test_workflow_2 has completed\n",
      "  timestamp: 2025-04-07 14:58:14.042888\n",
      "\n"
     ]
    }
   ],
   "source": [
    "print(workflow.log)"
   ]
  },
  {
   "cell_type": "code",
   "execution_count": null,
   "metadata": {},
   "outputs": [
    {
     "data": {
      "text/plain": [
       "[{'timestamp': datetime.datetime(2022, 8, 11, 11, 36, 44, 74545),\n",
       "  'event': 'Log Creation'},\n",
       " {'timestamp': datetime.datetime(2022, 8, 11, 11, 36, 44, 85220),\n",
       "  'event': 'Task test_workflow_2 was created.'},\n",
       " {'timestamp': datetime.datetime(2022, 8, 11, 11, 36, 44, 92226),\n",
       "  'event': 'Task id is fddb306e-3c11-4dd1-a5f0-b163801c6ea8'},\n",
       " {'timestamp': datetime.datetime(2022, 8, 11, 11, 36, 44, 194159),\n",
       "  'event': \"Starting slot 0, tasks ['Start'] have started\"},\n",
       " {'timestamp': datetime.datetime(2022, 8, 11, 11, 36, 44, 202156),\n",
       "  'event': 'The task Start has completed'},\n",
       " {'timestamp': datetime.datetime(2022, 8, 11, 11, 36, 44, 243494),\n",
       "  'event': \"Starting slot 1, tasks ['cubic', 'square', 'linear'] have started\"},\n",
       " {'timestamp': datetime.datetime(2022, 8, 11, 11, 36, 44, 253491),\n",
       "  'event': 'The task cubic has completed'},\n",
       " {'timestamp': datetime.datetime(2022, 8, 11, 11, 36, 44, 261008),\n",
       "  'event': 'The task square has completed'},\n",
       " {'timestamp': datetime.datetime(2022, 8, 11, 11, 36, 44, 271026),\n",
       "  'event': 'The task linear has completed'},\n",
       " {'timestamp': datetime.datetime(2022, 8, 11, 11, 36, 44, 461028),\n",
       "  'event': \"Starting slot 2, tasks ['combiner'] have started\"},\n",
       " {'timestamp': datetime.datetime(2022, 8, 11, 11, 36, 44, 471027),\n",
       "  'event': 'The task combiner has completed'},\n",
       " {'timestamp': datetime.datetime(2022, 8, 11, 11, 36, 44, 491027),\n",
       "  'event': \"Starting slot 3, tasks ['Stop'] have started\"},\n",
       " {'timestamp': datetime.datetime(2022, 8, 11, 11, 36, 44, 501027),\n",
       "  'event': 'The task Stop has completed'}]"
      ]
     },
     "execution_count": 15,
     "metadata": {},
     "output_type": "execute_result"
    }
   ],
   "source": [
    "workflow.log.log"
   ]
  },
  {
   "cell_type": "code",
   "execution_count": 26,
   "metadata": {},
   "outputs": [],
   "source": [
    "workflow.reset_workflow()"
   ]
  },
  {
   "cell_type": "code",
   "execution_count": 27,
   "metadata": {},
   "outputs": [],
   "source": [
    "workflow.execute(exit_condition='concurrently')"
   ]
  },
  {
   "cell_type": "code",
   "execution_count": 28,
   "metadata": {},
   "outputs": [
    {
     "name": "stdout",
     "output_type": "stream",
     "text": [
      "- event: Task test_workflow_2 was created.\n",
      "  timestamp: 2025-04-07 14:58:13.938897\n",
      "- event: Task id is c6cf6de3-a34e-49d9-ade8-6a80c3d30c34\n",
      "  timestamp: 2025-04-07 14:58:13.939831\n",
      "- event: Starting slot 0, tasks ['Start_test_workflow_2'] have started\n",
      "  timestamp: 2025-04-07 14:58:13.972092\n",
      "- event: The task Start_test_workflow_2 has completed\n",
      "  timestamp: 2025-04-07 14:58:13.973439\n",
      "- event: Starting slot 1, tasks ['cubic', 'square', 'linear'] have started\n",
      "  timestamp: 2025-04-07 14:58:13.980617\n",
      "- event: The task cubic has completed\n",
      "  timestamp: 2025-04-07 14:58:13.981639\n",
      "- event: The task square has completed\n",
      "  timestamp: 2025-04-07 14:58:13.983217\n",
      "- event: The task linear has completed\n",
      "  timestamp: 2025-04-07 14:58:13.985678\n",
      "- event: Starting slot 2, tasks ['combiner'] have started\n",
      "  timestamp: 2025-04-07 14:58:14.037950\n",
      "- event: The task combiner has completed\n",
      "  timestamp: 2025-04-07 14:58:14.039572\n",
      "- event: Starting slot 3, tasks ['Start_test_workflow_2'] have started\n",
      "  timestamp: 2025-04-07 14:58:14.041377\n",
      "- event: The task Start_test_workflow_2 has completed\n",
      "  timestamp: 2025-04-07 14:58:14.042888\n",
      "- event: Reset the workflow\n",
      "  timestamp: 2025-04-07 14:58:21.868931\n",
      "- event: Starting slot 0, tasks ['Start_test_workflow_2'] have started\n",
      "  timestamp: 2025-04-07 14:58:23.194176\n",
      "- event: The task Start_test_workflow_2 has completed\n",
      "  timestamp: 2025-04-07 14:58:23.197628\n",
      "- event: Starting slot 1, tasks ['cubic', 'square', 'linear'] have started\n",
      "  timestamp: 2025-04-07 14:58:23.207190\n",
      "- event: The task cubic has completed\n",
      "  timestamp: 2025-04-07 14:58:23.210198\n",
      "- event: The task square has completed\n",
      "  timestamp: 2025-04-07 14:58:23.213277\n",
      "- event: The task linear has completed\n",
      "  timestamp: 2025-04-07 14:58:23.216409\n",
      "- event: Starting slot 2, tasks ['combiner'] have started\n",
      "  timestamp: 2025-04-07 14:58:23.266111\n",
      "- event: The task combiner has completed\n",
      "  timestamp: 2025-04-07 14:58:23.268651\n",
      "- event: Starting slot 3, tasks ['Start_test_workflow_2'] have started\n",
      "  timestamp: 2025-04-07 14:58:23.271559\n",
      "- event: The task Start_test_workflow_2 has completed\n",
      "  timestamp: 2025-04-07 14:58:23.274238\n",
      "\n"
     ]
    }
   ],
   "source": [
    "print(workflow.log)"
   ]
  },
  {
   "cell_type": "markdown",
   "metadata": {},
   "source": [
    "## Two Combined Workflows\n"
   ]
  },
  {
   "cell_type": "code",
   "execution_count": 29,
   "metadata": {},
   "outputs": [],
   "source": [
    "test_workflow.reset_workflow()\n",
    "workflow.reset_workflow()\n",
    "combined_workflow = Workflow()\n",
    "combined_workflow.add_task(test_workflow)\n",
    "combined_workflow.add_task(workflow)"
   ]
  },
  {
   "cell_type": "code",
   "execution_count": 30,
   "metadata": {},
   "outputs": [],
   "source": [
    "combined_workflow.execute(exit_condition='concurrently')"
   ]
  },
  {
   "cell_type": "code",
   "execution_count": 31,
   "metadata": {},
   "outputs": [
    {
     "name": "stdout",
     "output_type": "stream",
     "text": [
      "- event: Task New_workflow_20250407_001 was created.\n",
      "  timestamp: 2025-04-07 14:58:26.958701\n",
      "- event: Task id is 20545d59-d246-46bd-b0dc-74061d324c10\n",
      "  timestamp: 2025-04-07 14:58:26.959479\n",
      "- event: Starting slot 0, tasks ['Start_New_workflow_20250407_001'] have started\n",
      "  timestamp: 2025-04-07 14:58:28.936538\n",
      "- event: The task Start_New_workflow_20250407_001 has completed\n",
      "  timestamp: 2025-04-07 14:58:28.937973\n",
      "- event: Starting slot 1, tasks ['test_workflow_2', 'test_workflow_1'] have started\n",
      "  timestamp: 2025-04-07 14:58:29.123445\n",
      "- event: The task test_workflow_2 has completed\n",
      "  timestamp: 2025-04-07 14:58:29.124502\n",
      "- event: The task test_workflow_1 has completed\n",
      "  timestamp: 2025-04-07 14:58:29.125951\n",
      "- event: Starting slot 2, tasks ['Start_New_workflow_20250407_001'] have started\n",
      "  timestamp: 2025-04-07 14:58:29.127782\n",
      "- event: The task Start_New_workflow_20250407_001 has completed\n",
      "  timestamp: 2025-04-07 14:58:29.129250\n",
      "\n"
     ]
    }
   ],
   "source": [
    "print(combined_workflow.log)"
   ]
  },
  {
   "cell_type": "code",
   "execution_count": 32,
   "metadata": {},
   "outputs": [
    {
     "name": "stdout",
     "output_type": "stream",
     "text": [
      "The slot index == 0\n",
      "The slot index == 1\n",
      "The task index == 0 and the task == test_workflow_2\n",
      "The task index == 1 and the task == test_workflow_1\n",
      "The task index == 0 and the task == <asmg_workflow.workflows.Workflow object at 0x0000023C77DA0050>\n",
      "The task index == 1 and the task == <asmg_workflow.workflows.Workflow object at 0x0000023C78069590>\n",
      "The slot index == 1, The task index == 0 and the task == <asmg_workflow.workflows.Workflow object at 0x0000023C77DA0050>\n",
      "Adding the edge Start_New_workflow_20250407_001,test_workflow_2 \n",
      "The slot index == 1, The task index == 1 and the task == <asmg_workflow.workflows.Workflow object at 0x0000023C78069590>\n",
      "Adding the edge Start_New_workflow_20250407_001,test_workflow_1 \n",
      "The slot index == 2\n"
     ]
    },
    {
     "data": {
      "image/png": "[encoded data removed]",
      "text/plain": [
       "<Figure size 640x480 with 1 Axes>"
      ]
     },
     "metadata": {},
     "output_type": "display_data"
    }
   ],
   "source": [
    "combined_workflow.show(type_=\"nx\",display = \"name\",verbose = True)"
   ]
  },
  {
   "cell_type": "code",
   "execution_count": 33,
   "metadata": {},
   "outputs": [
    {
     "name": "stdout",
     "output_type": "stream",
     "text": [
      "- event: Task test_workflow_2 was created.\n",
      "  timestamp: 2025-04-07 14:58:13.938897\n",
      "- event: Task id is c6cf6de3-a34e-49d9-ade8-6a80c3d30c34\n",
      "  timestamp: 2025-04-07 14:58:13.939831\n",
      "- event: Starting slot 0, tasks ['Start_test_workflow_2'] have started\n",
      "  timestamp: 2025-04-07 14:58:13.972092\n",
      "- event: The task Start_test_workflow_2 has completed\n",
      "  timestamp: 2025-04-07 14:58:13.973439\n",
      "- event: Starting slot 1, tasks ['cubic', 'square', 'linear'] have started\n",
      "  timestamp: 2025-04-07 14:58:13.980617\n",
      "- event: The task cubic has completed\n",
      "  timestamp: 2025-04-07 14:58:13.981639\n",
      "- event: The task square has completed\n",
      "  timestamp: 2025-04-07 14:58:13.983217\n",
      "- event: The task linear has completed\n",
      "  timestamp: 2025-04-07 14:58:13.985678\n",
      "- event: Starting slot 2, tasks ['combiner'] have started\n",
      "  timestamp: 2025-04-07 14:58:14.037950\n",
      "- event: The task combiner has completed\n",
      "  timestamp: 2025-04-07 14:58:14.039572\n",
      "- event: Starting slot 3, tasks ['Start_test_workflow_2'] have started\n",
      "  timestamp: 2025-04-07 14:58:14.041377\n",
      "- event: The task Start_test_workflow_2 has completed\n",
      "  timestamp: 2025-04-07 14:58:14.042888\n",
      "- event: Reset the workflow\n",
      "  timestamp: 2025-04-07 14:58:21.868931\n",
      "- event: Starting slot 0, tasks ['Start_test_workflow_2'] have started\n",
      "  timestamp: 2025-04-07 14:58:23.194176\n",
      "- event: The task Start_test_workflow_2 has completed\n",
      "  timestamp: 2025-04-07 14:58:23.197628\n",
      "- event: Starting slot 1, tasks ['cubic', 'square', 'linear'] have started\n",
      "  timestamp: 2025-04-07 14:58:23.207190\n",
      "- event: The task cubic has completed\n",
      "  timestamp: 2025-04-07 14:58:23.210198\n",
      "- event: The task square has completed\n",
      "  timestamp: 2025-04-07 14:58:23.213277\n",
      "- event: The task linear has completed\n",
      "  timestamp: 2025-04-07 14:58:23.216409\n",
      "- event: Starting slot 2, tasks ['combiner'] have started\n",
      "  timestamp: 2025-04-07 14:58:23.266111\n",
      "- event: The task combiner has completed\n",
      "  timestamp: 2025-04-07 14:58:23.268651\n",
      "- event: Starting slot 3, tasks ['Start_test_workflow_2'] have started\n",
      "  timestamp: 2025-04-07 14:58:23.271559\n",
      "- event: The task Start_test_workflow_2 has completed\n",
      "  timestamp: 2025-04-07 14:58:23.274238\n",
      "- event: Reset the workflow\n",
      "  timestamp: 2025-04-07 14:58:26.951838\n",
      "- event: Starting slot 0, tasks ['Start_test_workflow_2'] have started\n",
      "  timestamp: 2025-04-07 14:58:28.940944\n",
      "- event: The task Start_test_workflow_2 has completed\n",
      "  timestamp: 2025-04-07 14:58:28.947645\n",
      "- event: Starting slot 1, tasks ['cubic', 'square', 'linear'] have started\n",
      "  timestamp: 2025-04-07 14:58:28.967975\n",
      "- event: The task cubic has completed\n",
      "  timestamp: 2025-04-07 14:58:28.973582\n",
      "- event: The task square has completed\n",
      "  timestamp: 2025-04-07 14:58:28.981198\n",
      "- event: The task linear has completed\n",
      "  timestamp: 2025-04-07 14:58:28.987631\n",
      "- event: Starting slot 2, tasks ['combiner'] have started\n",
      "  timestamp: 2025-04-07 14:58:29.076412\n",
      "- event: The task combiner has completed\n",
      "  timestamp: 2025-04-07 14:58:29.087181\n",
      "- event: Starting slot 3, tasks ['Start_test_workflow_2'] have started\n",
      "  timestamp: 2025-04-07 14:58:29.099531\n",
      "- event: The task Start_test_workflow_2 has completed\n",
      "  timestamp: 2025-04-07 14:58:29.110692\n",
      "\n"
     ]
    }
   ],
   "source": [
    "print(combined_workflow.tasks[1].log)"
   ]
  },
  {
   "cell_type": "code",
   "execution_count": null,
   "metadata": {},
   "outputs": [],
   "source": []
  }
 ],
 "metadata": {
  "kernelspec": {
   "display_name": "asmg_workflow",
   "language": "python",
   "name": "python3"
  },
  "language_info": {
   "codemirror_mode": {
    "name": "ipython",
    "version": 3
   },
   "file_extension": ".py",
   "mimetype": "text/x-python",
   "name": "python",
   "nbconvert_exporter": "python",
   "pygments_lexer": "ipython3",
   "version": "3.13.2"
  }
 },
 "nbformat": 4,
 "nbformat_minor": 2
}
